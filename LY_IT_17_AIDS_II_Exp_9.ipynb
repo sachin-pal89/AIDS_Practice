{
  "nbformat": 4,
  "nbformat_minor": 0,
  "metadata": {
    "colab": {
      "provenance": []
    },
    "kernelspec": {
      "name": "python3",
      "display_name": "Python 3"
    },
    "language_info": {
      "name": "python"
    }
  },
  "cells": [
    {
      "cell_type": "code",
      "execution_count": null,
      "metadata": {
        "colab": {
          "base_uri": "https://localhost:8080/"
        },
        "id": "sBGUQInfGEF9",
        "outputId": "b337b523-2d2e-465b-878d-e3210c7da70e"
      },
      "outputs": [
        {
          "output_type": "stream",
          "name": "stdout",
          "text": [
            "Collecting fuzzywuzzy\n",
            "  Downloading fuzzywuzzy-0.18.0-py2.py3-none-any.whl (18 kB)\n",
            "Installing collected packages: fuzzywuzzy\n",
            "Successfully installed fuzzywuzzy-0.18.0\n"
          ]
        }
      ],
      "source": [
        "!pip install fuzzywuzzy"
      ]
    },
    {
      "cell_type": "code",
      "source": [
        "from fuzzywuzzy import process"
      ],
      "metadata": {
        "colab": {
          "base_uri": "https://localhost:8080/"
        },
        "id": "g7lLN2CeGYiq",
        "outputId": "7e403728-a9fc-499c-fead-509cf5ff9cd9"
      },
      "execution_count": null,
      "outputs": [
        {
          "output_type": "stream",
          "name": "stderr",
          "text": [
            "/usr/local/lib/python3.10/dist-packages/fuzzywuzzy/fuzz.py:11: UserWarning: Using slow pure-python SequenceMatcher. Install python-Levenshtein to remove this warning\n",
            "  warnings.warn('Using slow pure-python SequenceMatcher. Install python-Levenshtein to remove this warning')\n"
          ]
        }
      ]
    },
    {
      "cell_type": "code",
      "source": [
        "!pip install scikit-fuzzy"
      ],
      "metadata": {
        "colab": {
          "base_uri": "https://localhost:8080/"
        },
        "id": "1OWsOf75Ga6q",
        "outputId": "89b00816-3cdd-4a17-85b3-6d2dbbc5ecea"
      },
      "execution_count": null,
      "outputs": [
        {
          "output_type": "stream",
          "name": "stdout",
          "text": [
            "Collecting scikit-fuzzy\n",
            "  Downloading scikit-fuzzy-0.4.2.tar.gz (993 kB)\n",
            "\u001b[2K     \u001b[90m━━━━━━━━━━━━━━━━━━━━━━━━━━━━━━━━━━━━━━━━\u001b[0m \u001b[32m994.0/994.0 kB\u001b[0m \u001b[31m6.0 MB/s\u001b[0m eta \u001b[36m0:00:00\u001b[0m\n",
            "\u001b[?25h  Preparing metadata (setup.py) ... \u001b[?25l\u001b[?25hdone\n",
            "Requirement already satisfied: numpy>=1.6.0 in /usr/local/lib/python3.10/dist-packages (from scikit-fuzzy) (1.23.5)\n",
            "Requirement already satisfied: scipy>=0.9.0 in /usr/local/lib/python3.10/dist-packages (from scikit-fuzzy) (1.11.3)\n",
            "Requirement already satisfied: networkx>=1.9.0 in /usr/local/lib/python3.10/dist-packages (from scikit-fuzzy) (3.2.1)\n",
            "Building wheels for collected packages: scikit-fuzzy\n",
            "  Building wheel for scikit-fuzzy (setup.py) ... \u001b[?25l\u001b[?25hdone\n",
            "  Created wheel for scikit-fuzzy: filename=scikit_fuzzy-0.4.2-py3-none-any.whl size=894078 sha256=60c145473243c0939f7dbdd1d5aa727c9969b96c5ccd71dca53878aaf386527e\n",
            "  Stored in directory: /root/.cache/pip/wheels/4f/86/1b/dfd97134a2c8313e519bcebd95d3fedc7be7944db022094bc8\n",
            "Successfully built scikit-fuzzy\n",
            "Installing collected packages: scikit-fuzzy\n",
            "Successfully installed scikit-fuzzy-0.4.2\n"
          ]
        }
      ]
    },
    {
      "cell_type": "code",
      "source": [
        "import numpy as np\n",
        "import skfuzzy as fuzz\n",
        "from skfuzzy import control as ctrl\n"
      ],
      "metadata": {
        "id": "IGIaGcvKG_u7"
      },
      "execution_count": null,
      "outputs": []
    },
    {
      "cell_type": "code",
      "source": [
        "# Input variables\n",
        "A = ctrl.Antecedent(np.arange(0, 1), 'A')\n",
        "B = ctrl.Antecedent(np.arange(0, 1), 'B')\n",
        "\n",
        "# Output variable\n",
        "fan_speed = ctrl.Consequent(np.arange(0, 1), 'fan_speed')\n"
      ],
      "metadata": {
        "id": "c1yhdDUyHCSa"
      },
      "execution_count": null,
      "outputs": []
    },
    {
      "cell_type": "code",
      "source": [
        "# Define the two sets as dictionaries\n",
        "set_A = {1: 0.2, 2: 0.3, 3: 0.4, 4: 0.5}\n",
        "set_B = {1: 0.1, 2: 0.2, 3: 0.2, 4: 1.0}\n",
        "\n",
        "# Union (Max)\n",
        "union_result = {key: max(set_A[key], set_B[key]) for key in set_A}\n",
        "print(\"Union (Max):\", union_result)\n",
        "\n",
        "# Intersection (Min)\n",
        "intersection_result = {key: min(set_A[key], set_B[key]) for key in set_A}\n",
        "print(\"Intersection (Min):\", intersection_result)\n",
        "\n",
        "# Complement for Set A\n",
        "complement_A = {key: 1 - set_A[key] for key in set_A}\n",
        "print(\"Complement of Set A:\", complement_A)\n",
        "\n",
        "# Algebraic Product\n",
        "product_result = {key: set_A[key] * set_B[key] for key in set_A}\n",
        "print(\"Algebraic Product:\", product_result)\n",
        "\n",
        "# Algebraic Sum\n",
        "sum_result = {key: set_A[key] + set_B[key] - (set_A[key] * set_B[key]) for key in set_A}\n",
        "print(\"Algebraic Sum:\", sum_result)\n"
      ],
      "metadata": {
        "colab": {
          "base_uri": "https://localhost:8080/"
        },
        "id": "Xj3_B_ciHRf6",
        "outputId": "71e8896d-1fe1-466c-e0be-63be814343ed"
      },
      "execution_count": null,
      "outputs": [
        {
          "output_type": "stream",
          "name": "stdout",
          "text": [
            "Union (Max): {1: 0.2, 2: 0.3, 3: 0.4, 4: 1.0}\n",
            "Intersection (Min): {1: 0.1, 2: 0.2, 3: 0.2, 4: 0.5}\n",
            "Complement of Set A: {1: 0.8, 2: 0.7, 3: 0.6, 4: 0.5}\n",
            "Algebraic Product: {1: 0.020000000000000004, 2: 0.06, 3: 0.08000000000000002, 4: 0.5}\n",
            "Algebraic Sum: {1: 0.28, 2: 0.44, 3: 0.52, 4: 1.0}\n"
          ]
        }
      ]
    },
    {
      "cell_type": "code",
      "source": [
        "import numpy as np\n",
        "import skfuzzy as fuzz\n",
        "from skfuzzy import control as ctrl\n",
        "\n",
        "# Define the universe and membership functions\n",
        "universe = np.arange(1, 5, 1)\n",
        "\n",
        "# Define the two sets as dictionaries\n",
        "set_A = {1: 0.2, 2: 0.3, 3: 0.4, 4: 0.5}\n",
        "set_B = {1: 0.1, 2: 0.2, 3: 0.2, 4: 1.0}\n",
        "\n",
        "\n",
        "# Union (Max)\n",
        "union_result = {key: max(set_A[key], set_B[key]) for key in set_A}\n",
        "print(\"Union (Max):\", union_result)\n",
        "\n",
        "# Intersection (Min)\n",
        "intersection_result = {key: min(set_A[key], set_B[key]) for key in set_A}\n",
        "print(\"Intersection (Min):\", intersection_result)\n",
        "\n",
        "# Complement for Set A\n",
        "complement_A = {key: 1 - set_A[key] for key in set_A}\n",
        "print(\"Complement of Set A:\", complement_A)\n",
        "\n",
        "# Algebraic Product\n",
        "complement_A = {key: 1 - set_A[key] for key in set_A}\n",
        "print(\"Complement of Set A:\", complement_A)\n",
        "\n",
        "# Algebraic Sum\n",
        "sum_result = {key: set_A[key] + set_B[key] - (set_A[key] * set_B[key]) for key in set_A}\n",
        "print(\"Algebraic Sum:\", sum_result)\n"
      ],
      "metadata": {
        "colab": {
          "base_uri": "https://localhost:8080/"
        },
        "id": "LMY0C7qxIwcr",
        "outputId": "12ae84ed-1255-4eff-afa1-8115ca2d8c65"
      },
      "execution_count": null,
      "outputs": [
        {
          "output_type": "stream",
          "name": "stdout",
          "text": [
            "Union (Max): {1: 0.2, 2: 0.3, 3: 0.4, 4: 1.0}\n",
            "Intersection (Min): {1: 0.1, 2: 0.2, 3: 0.2, 4: 0.5}\n",
            "Complement of Set A: {1: 0.8, 2: 0.7, 3: 0.6, 4: 0.5}\n",
            "Complement of Set A: {1: 0.8, 2: 0.7, 3: 0.6, 4: 0.5}\n",
            "Algebraic Sum: {1: 0.28, 2: 0.44, 3: 0.52, 4: 1.0}\n"
          ]
        }
      ]
    },
    {
      "cell_type": "code",
      "source": [
        "!pip install pyfuzzy"
      ],
      "metadata": {
        "colab": {
          "base_uri": "https://localhost:8080/"
        },
        "id": "cn1Z7RRROVb9",
        "outputId": "3116ab86-3aed-4136-b931-f6242477e973"
      },
      "execution_count": null,
      "outputs": [
        {
          "output_type": "stream",
          "name": "stdout",
          "text": [
            "\u001b[31mERROR: Could not find a version that satisfies the requirement pyfuzzy (from versions: none)\u001b[0m\u001b[31m\n",
            "\u001b[0m\u001b[31mERROR: No matching distribution found for pyfuzzy\u001b[0m\u001b[31m\n",
            "\u001b[0m"
          ]
        }
      ]
    },
    {
      "cell_type": "code",
      "source": [
        "import numpy as np\n",
        "import skfuzzy as fuzz\n",
        "\n",
        "# Define the two sets as dictionaries\n",
        "A_Values = [0.2, 0.3, 0.4, 0.5]\n",
        "B_Values = [0.1, 0.2, 0.2, 1.0]\n",
        "\n",
        "# Define the universe of discourse\n",
        "x = np.arange(0, 1.1, 0.1)\n",
        "\n",
        "# Define the membership functions for sets A and B\n",
        "A = fuzz.trapmf(x, [0.2, 0.3, 0.4, 0.5])\n",
        "B = fuzz.trapmf(x, [0.1, 0.2, 0.2, 1])\n",
        "\n",
        "# Calculate the algebraic sum\n",
        "algebraic_sum = [(A + B) - (A * B) for A, B in zip(A_Values, B_Values)]\n",
        "\n",
        "# Print the algebraic sum\n",
        "print(\"Algebraic Sum (A + B):\", algebraic_sum)"
      ],
      "metadata": {
        "colab": {
          "base_uri": "https://localhost:8080/"
        },
        "id": "xqo4qXzROgzk",
        "outputId": "712849cb-04d3-449e-8ab6-aaaa0eb41619"
      },
      "execution_count": null,
      "outputs": [
        {
          "output_type": "stream",
          "name": "stdout",
          "text": [
            "Algebraic Sum (A + B): [0.28, 0.44, 0.52, 1.0]\n"
          ]
        }
      ]
    },
    {
      "cell_type": "code",
      "source": [
        "# Define the two sets as dictionaries\n",
        "set_A = {1: 0.2, 2: 0.3, 3: 0.4, 4: 0.5}\n",
        "set_B = {1: 0.1, 2: 0.2, 3: 0.2, 4: 1.0}\n",
        "\n",
        "# Initialize empty dictionaries for the results\n",
        "union_result = {}\n",
        "intersection_result = {}\n",
        "complement_A = {}\n",
        "product_result = {}\n",
        "sum_result = {}\n",
        "\n",
        "# Perform fuzzy logic operations\n",
        "for key in set_A.keys():\n",
        "    union_result[key] = max(set_A[key], set_B[key])\n",
        "    intersection_result[key] = min(set_A[key], set_B[key])\n",
        "    complement_A[key] = 1 - set_A[key]\n",
        "    product_result[key] = set_A[key] * set_B[key]\n",
        "    sum_result[key] = set_A[key] + set_B[key] - (set_A[key] * set_B[key])\n",
        "\n",
        "# Print the results\n",
        "print(\"Union (Max):\", union_result)\n",
        "print(\"Intersection (Min):\", intersection_result)\n",
        "print(\"Complement of Set A:\", complement_A)\n",
        "print(\"Algebraic Product:\", product_result)\n",
        "print(\"Algebraic Sum:\", sum_result)\n"
      ],
      "metadata": {
        "colab": {
          "base_uri": "https://localhost:8080/"
        },
        "id": "PbuMhu97NpsR",
        "outputId": "89560b26-d516-47f9-b8a5-d4459579f6f0"
      },
      "execution_count": null,
      "outputs": [
        {
          "output_type": "stream",
          "name": "stdout",
          "text": [
            "Union (Max): {1: 0.2, 2: 0.3, 3: 0.4, 4: 1.0}\n",
            "Intersection (Min): {1: 0.1, 2: 0.2, 3: 0.2, 4: 0.5}\n",
            "Complement of Set A: {1: 0.8, 2: 0.7, 3: 0.6, 4: 0.5}\n",
            "Algebraic Product: {1: 0.020000000000000004, 2: 0.06, 3: 0.08000000000000002, 4: 0.5}\n",
            "Algebraic Sum: {1: 0.28, 2: 0.44, 3: 0.52, 4: 1.0}\n"
          ]
        }
      ]
    }
  ]
}